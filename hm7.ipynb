{
  "nbformat": 4,
  "nbformat_minor": 0,
  "metadata": {
    "colab": {
      "provenance": []
    },
    "kernelspec": {
      "name": "python3",
      "display_name": "Python 3"
    },
    "language_info": {
      "name": "python"
    }
  },
  "cells": [
    {
      "cell_type": "code",
      "source": [
        "!pip install scikit-surprise pandas"
      ],
      "metadata": {
        "colab": {
          "base_uri": "https://localhost:8080/"
        },
        "id": "_f7pA6-eW41b",
        "outputId": "6d938e7d-0143-41cb-816e-8b080ca9de10"
      },
      "execution_count": 1,
      "outputs": [
        {
          "output_type": "stream",
          "name": "stdout",
          "text": [
            "Collecting scikit-surprise\n",
            "  Downloading scikit_surprise-1.1.4.tar.gz (154 kB)\n",
            "\u001b[?25l     \u001b[90m━━━━━━━━━━━━━━━━━━━━━━━━━━━━━━━━━━━━━━━━\u001b[0m \u001b[32m0.0/154.4 kB\u001b[0m \u001b[31m?\u001b[0m eta \u001b[36m-:--:--\u001b[0m\r\u001b[2K     \u001b[90m━━━━━━━━━━━━━━━━━━━━━━━━━━━━━━━━━━━━━━━━\u001b[0m \u001b[32m154.4/154.4 kB\u001b[0m \u001b[31m5.5 MB/s\u001b[0m eta \u001b[36m0:00:00\u001b[0m\n",
            "\u001b[?25h  Installing build dependencies ... \u001b[?25l\u001b[?25hdone\n",
            "  Getting requirements to build wheel ... \u001b[?25l\u001b[?25hdone\n",
            "  Preparing metadata (pyproject.toml) ... \u001b[?25l\u001b[?25hdone\n",
            "Requirement already satisfied: pandas in /usr/local/lib/python3.10/dist-packages (2.0.3)\n",
            "Requirement already satisfied: joblib>=1.2.0 in /usr/local/lib/python3.10/dist-packages (from scikit-surprise) (1.4.2)\n",
            "Requirement already satisfied: numpy>=1.19.5 in /usr/local/lib/python3.10/dist-packages (from scikit-surprise) (1.25.2)\n",
            "Requirement already satisfied: scipy>=1.6.0 in /usr/local/lib/python3.10/dist-packages (from scikit-surprise) (1.13.1)\n",
            "Requirement already satisfied: python-dateutil>=2.8.2 in /usr/local/lib/python3.10/dist-packages (from pandas) (2.8.2)\n",
            "Requirement already satisfied: pytz>=2020.1 in /usr/local/lib/python3.10/dist-packages (from pandas) (2024.1)\n",
            "Requirement already satisfied: tzdata>=2022.1 in /usr/local/lib/python3.10/dist-packages (from pandas) (2024.1)\n",
            "Requirement already satisfied: six>=1.5 in /usr/local/lib/python3.10/dist-packages (from python-dateutil>=2.8.2->pandas) (1.16.0)\n",
            "Building wheels for collected packages: scikit-surprise\n",
            "  Building wheel for scikit-surprise (pyproject.toml) ... \u001b[?25l\u001b[?25hdone\n",
            "  Created wheel for scikit-surprise: filename=scikit_surprise-1.1.4-cp310-cp310-linux_x86_64.whl size=2357231 sha256=06ee1c4627f5313da9102822c91f0d1248e34594b8cd25a00454fc72eb599667\n",
            "  Stored in directory: /root/.cache/pip/wheels/4b/3f/df/6acbf0a40397d9bf3ff97f582cc22fb9ce66adde75bc71fd54\n",
            "Successfully built scikit-surprise\n",
            "Installing collected packages: scikit-surprise\n",
            "Successfully installed scikit-surprise-1.1.4\n"
          ]
        }
      ]
    },
    {
      "cell_type": "code",
      "execution_count": 2,
      "metadata": {
        "id": "r6OB3Cb9WNW4"
      },
      "outputs": [],
      "source": [
        "import pandas as pd\n",
        "from surprise import Dataset, Reader\n",
        "from surprise.model_selection import cross_validate, GridSearchCV\n",
        "from surprise import SVD, SVDpp, NMF"
      ]
    },
    {
      "cell_type": "code",
      "source": [
        "movies_path = 'movies.csv'\n",
        "ratings_path = 'ratings.csv'\n",
        "tags_path = 'tags.csv'\n",
        "links_path = 'links.csv'\n",
        "\n",
        "movies = pd.read_csv(movies_path)\n",
        "ratings = pd.read_csv(ratings_path)\n",
        "tags = pd.read_csv(tags_path)\n",
        "links = pd.read_csv(links_path)\n",
        "\n",
        "ratings = ratings[ratings['userId'].isin(ratings['userId'].unique()[:1000])]\n",
        "ratings = ratings[ratings['movieId'].isin(ratings['movieId'].unique()[:1000])]\n",
        "\n",
        "reader = Reader(rating_scale=(0.5, 5.0))\n",
        "data = Dataset.load_from_df(ratings[['userId', 'movieId', 'rating']], reader)\n",
        "\n",
        "def tune_and_evaluate(algo_class, param_grid):\n",
        "    gs = GridSearchCV(algo_class, param_grid, measures=['rmse'], cv=3)\n",
        "    gs.fit(data)\n",
        "    print(f\"Best RMSE: {gs.best_score['rmse']}\")\n",
        "    print(f\"Best parameters: {gs.best_params['rmse']}\")\n",
        "    return gs.best_estimator['rmse']\n"
      ],
      "metadata": {
        "id": "4DMdYFu2Wew-"
      },
      "execution_count": 6,
      "outputs": []
    },
    {
      "cell_type": "code",
      "source": [
        "param_grid_svd = {\n",
        "    'n_epochs': [20, 30],\n",
        "    'lr_all': [0.002, 0.005],\n",
        "    'reg_all': [0.02, 0.1]\n",
        "}\n",
        "best_svd = tune_and_evaluate(SVD, param_grid_svd)"
      ],
      "metadata": {
        "colab": {
          "base_uri": "https://localhost:8080/"
        },
        "id": "lUMdQdQFdRdo",
        "outputId": "34616c1a-8aa0-45ae-e828-b2cd64b35359"
      },
      "execution_count": 7,
      "outputs": [
        {
          "output_type": "stream",
          "name": "stdout",
          "text": [
            "Best RMSE: 0.8533263417946898\n",
            "Best parameters: {'n_epochs': 30, 'lr_all': 0.005, 'reg_all': 0.1}\n"
          ]
        }
      ]
    },
    {
      "cell_type": "code",
      "source": [
        "param_grid_svdpp = {\n",
        "    'n_epochs': [20, 30],\n",
        "    'lr_all': [0.002, 0.005],\n",
        "    'reg_all': [0.02, 0.1]\n",
        "}\n",
        "best_svdpp = tune_and_evaluate(SVDpp, param_grid_svdpp)"
      ],
      "metadata": {
        "colab": {
          "base_uri": "https://localhost:8080/"
        },
        "id": "LuSSCJ9OdUZX",
        "outputId": "79cb221a-382d-4c95-b36c-16cbda73bcde"
      },
      "execution_count": 8,
      "outputs": [
        {
          "output_type": "stream",
          "name": "stdout",
          "text": [
            "Best RMSE: 0.8455539937939988\n",
            "Best parameters: {'n_epochs': 30, 'lr_all': 0.005, 'reg_all': 0.02}\n"
          ]
        }
      ]
    },
    {
      "cell_type": "code",
      "source": [
        "param_grid_nmf = {\n",
        "    'n_epochs': [20, 30],\n",
        "    'n_factors': [15, 20],\n",
        "    'reg_pu': [0.06, 0.1],\n",
        "    'reg_qi': [0.06, 0.1]\n",
        "}\n",
        "best_nmf = tune_and_evaluate(NMF, param_grid_nmf)"
      ],
      "metadata": {
        "colab": {
          "base_uri": "https://localhost:8080/"
        },
        "id": "VD3QmZ_tdaDn",
        "outputId": "46fe22af-2a93-4bcf-b8bc-28d8977b46a2"
      },
      "execution_count": 9,
      "outputs": [
        {
          "output_type": "stream",
          "name": "stdout",
          "text": [
            "Best RMSE: 0.8770356578893281\n",
            "Best parameters: {'n_epochs': 30, 'n_factors': 20, 'reg_pu': 0.1, 'reg_qi': 0.1}\n"
          ]
        }
      ]
    },
    {
      "cell_type": "code",
      "source": [
        "cross_validate(best_svd, data, measures=['RMSE'], cv=3, verbose=True)\n",
        "cross_validate(best_svdpp, data, measures=['RMSE'], cv=3, verbose=True)\n",
        "cross_validate(best_nmf, data, measures=['RMSE'], cv=3, verbose=True)"
      ],
      "metadata": {
        "colab": {
          "base_uri": "https://localhost:8080/"
        },
        "id": "GrgUwOFydbve",
        "outputId": "e2b5a468-ac1a-4664-ff2f-6559263a070c"
      },
      "execution_count": 10,
      "outputs": [
        {
          "output_type": "stream",
          "name": "stdout",
          "text": [
            "Evaluating RMSE of algorithm SVD on 3 split(s).\n",
            "\n",
            "                  Fold 1  Fold 2  Fold 3  Mean    Std     \n",
            "RMSE (testset)    0.8610  0.8528  0.8471  0.8536  0.0057  \n",
            "Fit time          0.74    0.89    0.74    0.79    0.07    \n",
            "Test time         0.08    0.23    0.09    0.13    0.07    \n",
            "Evaluating RMSE of algorithm SVDpp on 3 split(s).\n",
            "\n",
            "                  Fold 1  Fold 2  Fold 3  Mean    Std     \n",
            "RMSE (testset)    0.8533  0.8435  0.8476  0.8482  0.0040  \n",
            "Fit time          10.52   10.45   10.67   10.54   0.09    \n",
            "Test time         2.47    2.67    2.59    2.58    0.08    \n",
            "Evaluating RMSE of algorithm NMF on 3 split(s).\n",
            "\n",
            "                  Fold 1  Fold 2  Fold 3  Mean    Std     \n",
            "RMSE (testset)    0.8859  0.8725  0.8709  0.8764  0.0067  \n",
            "Fit time          0.48    0.50    0.50    0.49    0.01    \n",
            "Test time         0.07    0.07    0.23    0.12    0.08    \n"
          ]
        },
        {
          "output_type": "execute_result",
          "data": {
            "text/plain": [
              "{'test_rmse': array([0.88590151, 0.87250274, 0.87089932]),\n",
              " 'fit_time': (0.47557544708251953, 0.5027868747711182, 0.5019881725311279),\n",
              " 'test_time': (0.06702423095703125, 0.06619381904602051, 0.22749876976013184)}"
            ]
          },
          "metadata": {},
          "execution_count": 10
        }
      ]
    }
  ]
}